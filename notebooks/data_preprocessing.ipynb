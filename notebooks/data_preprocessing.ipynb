{
 "cells": [
  {
   "cell_type": "code",
   "id": "initial_id",
   "metadata": {
    "collapsed": true
   },
   "source": [
    "import os\n",
    "import sys\n",
    "import matplotlib.pyplot as plt\n",
    "import pandas as pd\n",
    "import seaborn as sns\n",
    "from sklearn.preprocessing import MinMaxScaler\n",
    "%matplotlib inline\n",
    "sns.set_theme()"
   ],
   "outputs": [],
   "execution_count": null
  },
  {
   "metadata": {},
   "cell_type": "code",
   "source": [
    "project_root = os.path.abspath(os.path.join(os.getcwd(), '..'))\n",
    "if project_root not in sys.path:\n",
    "    sys.path.append(project_root)"
   ],
   "id": "e9992879571eeedb",
   "outputs": [],
   "execution_count": null
  },
  {
   "metadata": {},
   "cell_type": "code",
   "source": "from src.utils import get_config, read_files",
   "id": "968aad782b3e71a3",
   "outputs": [],
   "execution_count": null
  },
  {
   "metadata": {},
   "cell_type": "code",
   "source": [
    "config = get_config.read_yaml()\n",
    "tickers = config['data'][config['data']['selected_tickers']]\n",
    "ticker = tickers[0]\n",
    "ticker"
   ],
   "id": "e80b1a7051795ab8",
   "outputs": [],
   "execution_count": null
  },
  {
   "metadata": {},
   "cell_type": "code",
   "source": [
    "data = read_files.read_raw_training_data(ticker)\n",
    "data"
   ],
   "id": "31a6072d334d923f",
   "outputs": [],
   "execution_count": null
  },
  {
   "metadata": {},
   "cell_type": "code",
   "source": [
    "# define a function to plot various datafields\n",
    "def plot_df(df, kind=None):\n",
    "    if kind is None:\n",
    "        df.plot(figsize = (15,8), fontsize=12) # plots the graph with specified plot and font size\n",
    "    else:\n",
    "        df.plot(kind=kind, figsize = (15,8), fontsize=12, bins=100)\n",
    "    plt.legend(fontsize = 12) # shows legends\n",
    "    plt.show() # makes the plot visible"
   ],
   "id": "404f779c091b8624",
   "outputs": [],
   "execution_count": null
  },
  {
   "metadata": {},
   "cell_type": "code",
   "source": [
    "# Handling NaN values in the dataframe (WIP)\n",
    "data = data[data.index >= config['data']['begin_train_date']].copy()\n",
    "data = data.ffill()\n",
    "data"
   ],
   "id": "283e8a1b191edbc5",
   "outputs": [],
   "execution_count": null
  },
  {
   "metadata": {},
   "cell_type": "code",
   "source": [
    "# Handling NaN values in the dataframe (WIP)\n",
    "data = data[data.index >= config['data']['begin_train_date']].copy()\n",
    "data = data.ffill()\n",
    "data"
   ],
   "id": "cfee1e6215a4e75",
   "outputs": [],
   "execution_count": null
  },
  {
   "metadata": {},
   "cell_type": "code",
   "source": [
    "scaler = MinMaxScaler()\n",
    "data_scaled = data.copy()\n",
    "scaler.fit(data.loc[:,'Close':])\n",
    "data_scaled.loc[:,:] = scaler.transform(data.loc[:,:])\n",
    "data_scaled\n"
   ],
   "id": "e36cbb9cdef6a3de",
   "outputs": [],
   "execution_count": null
  },
  {
   "metadata": {},
   "cell_type": "code",
   "source": "plot_df(data_scaled['Close'])",
   "id": "27c81038f7f6036e",
   "outputs": [],
   "execution_count": null
  },
  {
   "metadata": {},
   "cell_type": "code",
   "source": "ticker",
   "id": "4b0418173edff33",
   "outputs": [],
   "execution_count": null
  },
  {
   "metadata": {},
   "cell_type": "code",
   "source": "data = read_files.read_raw_training_data(ticker)",
   "id": "4c54a1d044ebcab1",
   "outputs": [],
   "execution_count": null
  },
  {
   "metadata": {},
   "cell_type": "code",
   "source": "data",
   "id": "d02fad7397d53e55",
   "outputs": [],
   "execution_count": null
  },
  {
   "metadata": {},
   "cell_type": "code",
   "source": "data_scaled",
   "id": "69f99b5c8a6842ac",
   "outputs": [],
   "execution_count": null
  },
  {
   "metadata": {},
   "cell_type": "code",
   "source": [
    "for col in data.columns:\n",
    "    data.rename(columns={col : (col, ticker)}, inplace=True)\n",
    "data"
   ],
   "id": "eb38dc8dbaa1779",
   "outputs": [],
   "execution_count": null
  },
  {
   "metadata": {},
   "cell_type": "code",
   "source": [
    "ticker2 = tickers[1]\n",
    "ticker2\n",
    "data2 = read_files.read_raw_training_data(ticker2)\n",
    "data2"
   ],
   "id": "213cf69773a5f6a4",
   "outputs": [],
   "execution_count": null
  },
  {
   "metadata": {},
   "cell_type": "code",
   "source": [
    "for col in data2.columns:\n",
    "    data2.rename(columns={col : (col, ticker2)}, inplace=True)\n",
    "data2\n"
   ],
   "id": "ea66afa59b186f8e",
   "outputs": [],
   "execution_count": null
  },
  {
   "metadata": {},
   "cell_type": "code",
   "source": "import pandas as pd",
   "id": "7e68c2aea12856d",
   "outputs": [],
   "execution_count": null
  },
  {
   "metadata": {},
   "cell_type": "code",
   "source": [
    "data = pd.merge(data, data2, how='inner', left_index=True, right_index=True)\n",
    "data"
   ],
   "id": "f3280d247335c491",
   "outputs": [],
   "execution_count": null
  },
  {
   "metadata": {},
   "cell_type": "code",
   "source": "",
   "id": "946bd2142aa9a709",
   "outputs": [],
   "execution_count": null
  }
 ],
 "metadata": {
  "kernelspec": {
   "display_name": "Python 3",
   "language": "python",
   "name": "python3"
  },
  "language_info": {
   "codemirror_mode": {
    "name": "ipython",
    "version": 2
   },
   "file_extension": ".py",
   "mimetype": "text/x-python",
   "name": "python",
   "nbconvert_exporter": "python",
   "pygments_lexer": "ipython2",
   "version": "2.7.6"
  }
 },
 "nbformat": 4,
 "nbformat_minor": 5
}
